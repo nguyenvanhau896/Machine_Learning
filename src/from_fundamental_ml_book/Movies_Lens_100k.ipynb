{
 "cells": [
  {
   "cell_type": "code",
   "execution_count": 1,
   "metadata": {},
   "outputs": [
    {
     "name": "stdout",
     "output_type": "stream",
     "text": [
      "Number of users: 943\n"
     ]
    }
   ],
   "source": [
    "from __future__ import print_function\n",
    "import numpy as np\n",
    "import pandas as pd\n",
    "# Reading user file\n",
    "u_cols = ['user_id', 'age', 'sex', 'occupation', 'zip_code']\n",
    "users = pd.read_csv('ml-100k/u.user', sep='|', names=u_cols)\n",
    "n_users = users.shape[0]\n",
    "print('Number of users:', n_users)"
   ]
  },
  {
   "cell_type": "code",
   "execution_count": 2,
   "metadata": {},
   "outputs": [
    {
     "name": "stdout",
     "output_type": "stream",
     "text": [
      "Number of training rates: 90570\n",
      "Number of test rates: 9430\n"
     ]
    }
   ],
   "source": [
    "# Reading ratings file\n",
    "r_cols =  ['user_id', 'move_id', 'rating', 'unix_timestamp']\n",
    "\n",
    "ratings_base = pd.read_csv('ml-100k/ua.base', sep='\\t', names=r_cols)\n",
    "ratings_test = pd.read_csv('ml-100k/ua.test', sep='\\t', names=r_cols)\n",
    "\n",
    "# 2020 as_matrix is removed\n",
    "# use .to_numpy or .values() instead \n",
    "rate_train = ratings_base.to_numpy()\n",
    "rate_test = ratings_test.to_numpy()\n",
    "\n",
    "print('Number of training rates:', rate_train.shape[0])\n",
    "print('Number of test rates:', rate_test.shape[0])"
   ]
  },
  {
   "cell_type": "code",
   "execution_count": 3,
   "metadata": {},
   "outputs": [
    {
     "name": "stdout",
     "output_type": "stream",
     "text": [
      "Number of items 1682\n"
     ]
    }
   ],
   "source": [
    "# Reading items file\n",
    "i_cols = ['movie id', 'movie title', 'release date', 'video release day', 'IMDb URL', 'unknown', 'Action', 'Animation', 'Children\\'s', 'Comedy',\n",
    "          'Crime', 'Documentary', 'Drama', 'Fantasy', 'Film-Noir', 'Horror', 'Musical', 'Mystery', 'Romance', 'Sci-Fi', 'Thriller', 'War', 'Western']\n",
    "\n",
    "items = pd.read_csv('ml-100k/u.item', sep='|', names=i_cols, encoding='latin-1')\n",
    "\n",
    "n_items = items.shape[0]\n",
    "print('Number of items', n_items)"
   ]
  },
  {
   "cell_type": "code",
   "execution_count": 4,
   "metadata": {},
   "outputs": [],
   "source": [
    "X0 = items.to_numpy()\n",
    "X_train_counts = X0[:, -19:]"
   ]
  },
  {
   "cell_type": "code",
   "execution_count": 5,
   "metadata": {},
   "outputs": [],
   "source": [
    "from sklearn.feature_extraction.text import TfidfTransformer\n",
    "transformer = TfidfTransformer(smooth_idf=True, norm='l2')\n",
    "X = transformer.fit_transform(X_train_counts.tolist()).toarray()"
   ]
  },
  {
   "cell_type": "code",
   "execution_count": 6,
   "metadata": {},
   "outputs": [
    {
     "name": "stdout",
     "output_type": "stream",
     "text": [
      "[[        1         1         5 874965758]\n",
      " [        1         2         3 876893171]\n",
      " [        1         3         4 878542960]\n",
      " [        1         4         3 876893119]]\n"
     ]
    }
   ],
   "source": [
    "print(rate_train[:4, :])"
   ]
  },
  {
   "cell_type": "code",
   "execution_count": 7,
   "metadata": {},
   "outputs": [],
   "source": [
    "def get_items_rated_by_user(rate_matrix, user_id):\n",
    "    y = rate_matrix[:, 0] # all users\n",
    "    \n",
    "    ids = np.where(y == user_id + 1)[0]\n",
    "    item_ids = rate_matrix[ids, 1] - 1 # index strats from 0\n",
    "    scores = rate_matrix[ids, 2]\n",
    "    return (item_ids, scores)"
   ]
  },
  {
   "cell_type": "code",
   "execution_count": 8,
   "metadata": {},
   "outputs": [],
   "source": [
    "from sklearn.linear_model import Ridge\n",
    "from sklearn import linear_model\n",
    "\n",
    "d = X.shape[1] # data dimension\n",
    "W = np.zeros((d, n_users))\n",
    "b = np.zeros(n_users)\n",
    "\n",
    "for n in range(n_users):\n",
    "    ids, scores = get_items_rated_by_user(rate_train, n)\n",
    "    model = Ridge(alpha=0.01, fit_intercept=True)\n",
    "    Xhat = X[ids, :]\n",
    "    model.fit(Xhat, scores)\n",
    "    W[:, n] = model.coef_\n",
    "    b[n] = model.intercept_\n",
    "    "
   ]
  },
  {
   "cell_type": "code",
   "execution_count": 9,
   "metadata": {},
   "outputs": [],
   "source": [
    "Yhat = X.dot(W) + b"
   ]
  },
  {
   "cell_type": "code",
   "execution_count": 11,
   "metadata": {},
   "outputs": [
    {
     "name": "stdout",
     "output_type": "stream",
     "text": [
      "Rated movie ids  : [ 37 109 110 226 424 557 722 724 731 739]\n",
      "True ratings     : [3 3 4 3 4 3 5 3 3 4]\n",
      "Predicted ratings: [2.65 3.9  3.21 3.28 2.11 2.05 2.41 2.11 3.21 3.34]\n"
     ]
    }
   ],
   "source": [
    "n = 100\n",
    "np.set_printoptions(precision=2)\n",
    "ids, scores = get_items_rated_by_user(rate_test, 10)\n",
    "Yhat[n, ids]\n",
    "print('Rated movie ids  :', ids)\n",
    "print('True ratings     :', scores)\n",
    "print('Predicted ratings:', Yhat[ids, n])"
   ]
  },
  {
   "cell_type": "code",
   "execution_count": 14,
   "metadata": {},
   "outputs": [],
   "source": [
    "def evaluate(Yhat, rates, W, b):\n",
    "    se = 0\n",
    "    cnt = 0\n",
    "    for n in range(n_users):\n",
    "        ids, scores_truth = get_items_rated_by_user(rates, n)\n",
    "        scores_pred = Yhat[ids, n]\n",
    "        e = scores_truth - scores_pred\n",
    "        se += (e**2).sum(axis=0)\n",
    "        cnt += e.size\n",
    "    return np.sqrt(se/cnt)"
   ]
  },
  {
   "cell_type": "code",
   "execution_count": 15,
   "metadata": {},
   "outputs": [
    {
     "name": "stdout",
     "output_type": "stream",
     "text": [
      "RMSE for training: 0.91\n",
      "RMSE for testing: 1.27\n"
     ]
    }
   ],
   "source": [
    "print('RMSE for training: %.2f' %evaluate(Yhat, rate_train, W, b))\n",
    "print('RMSE for testing: %.2f' %evaluate(Yhat, rate_test, W, b))"
   ]
  },
  {
   "cell_type": "markdown",
   "metadata": {},
   "source": [
    "Do chúng ta đã đơn giản hóa mô hình đi rất nhiều (hồi quy tuyến tính dạng Ridge, có regularization) nên kết quả không thật sự tốt!"
   ]
  }
 ],
 "metadata": {
  "kernelspec": {
   "display_name": "Python 3",
   "language": "python",
   "name": "python3"
  },
  "language_info": {
   "codemirror_mode": {
    "name": "ipython",
    "version": 3
   },
   "file_extension": ".py",
   "mimetype": "text/x-python",
   "name": "python",
   "nbconvert_exporter": "python",
   "pygments_lexer": "ipython3",
   "version": "3.11.1"
  }
 },
 "nbformat": 4,
 "nbformat_minor": 2
}
